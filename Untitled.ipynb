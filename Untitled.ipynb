{
 "cells": [
  {
   "cell_type": "code",
   "execution_count": 1,
   "metadata": {},
   "outputs": [
    {
     "name": "stdout",
     "output_type": "stream",
     "text": [
      "Matrix : Matrix([[14, 0, 11, 3], [22, 23, 4, 7], [-12, -34, -3, -4]]) \n",
      "The Row echelon form of matrix M and the pivot columns : (Matrix([\n",
      "[1, 0, 0, 1405/4254],\n",
      "[0, 1, 0,    10/709],\n",
      "[0, 0, 1, -314/2127]]), (0, 1, 2))\n"
     ]
    }
   ],
   "source": [
    "from sympy import * \n",
    "\n"
   ]
  },
  {
   "cell_type": "code",
   "execution_count": 13,
   "metadata": {},
   "outputs": [
    {
     "name": "stdout",
     "output_type": "stream",
     "text": [
      "Matrix : Matrix([[1, 1, 1, 0, 0], [0, 1, 1, 1, 0], [1, 0, 0, 1, 1]]) \n",
      "The Row echelon form of matrix M and the pivot columns : (Matrix([\n",
      "[1, 0, 0, 0,  1/2],\n",
      "[0, 1, 1, 0, -1/2],\n",
      "[0, 0, 0, 1,  1/2]]), (0, 1, 3))\n"
     ]
    }
   ],
   "source": [
    "M = Matrix([[1, 1, 1, 0, 0], [0,1,1,1,0], [1,0,0,1,1]])\n",
    "print(\"Matrix : {} \".format(M))\n",
    "   \n",
    "# Use sympy.rref() method \n",
    "M_rref = M.rref()  \n",
    "      \n",
    "print(\"The Row echelon form of matrix M and the pivot columns : {}\".format(M_rref))  "
   ]
  },
  {
   "cell_type": "code",
   "execution_count": 12,
   "metadata": {},
   "outputs": [
    {
     "name": "stdout",
     "output_type": "stream",
     "text": [
      "Matrix : Matrix([[1, 1, 1, 1, 0, 0], [0, 0, 1, 1, 1, 1], [0, 1, 0, 0, 1, 1]]) \n",
      "The Row echelon form of matrix M and the pivot columns : (Matrix([\n",
      "[1, 0, 0, 0, -2, -2],\n",
      "[0, 1, 0, 0,  1,  1],\n",
      "[0, 0, 1, 1,  1,  1]]), (0, 1, 2))\n"
     ]
    }
   ],
   "source": [
    "M = Matrix([[1, 1, 1, 1, 0, 0], [0,0,1,1,1,1], [0,1,0,0,1,1]])\n",
    "print(\"Matrix : {} \".format(M))\n",
    "   \n",
    "# Use sympy.rref() method \n",
    "M_rref = M.rref()  \n",
    "      \n",
    "print(\"The Row echelon form of matrix M and the pivot columns : {}\".format(M_rref))  "
   ]
  },
  {
   "cell_type": "code",
   "execution_count": 7,
   "metadata": {},
   "outputs": [
    {
     "name": "stdout",
     "output_type": "stream",
     "text": [
      "Matrix : Matrix([[1, 1, 1, 1, 0, 0], [0, 1, 1, 1, 1, 0], [1, 0, 0, 1, 1, 1]]) \n",
      "The Row echelon form of matrix M and the pivot columns : (Matrix([\n",
      "[1, 0, 0, 0, -1,  0],\n",
      "[0, 1, 1, 0, -1, -1],\n",
      "[0, 0, 0, 1,  2,  1]]), (0, 1, 3))\n"
     ]
    }
   ],
   "source": [
    "M = Matrix([[1, 1, 1, 1, 0, 0], [0,1,1,1,1,0], [1,0,0,1,1,1]])\n",
    "print(\"Matrix : {} \".format(M))\n",
    "   \n",
    "# Use sympy.rref() method \n",
    "M_rref = M.rref()  \n",
    "      \n",
    "print(\"The Row echelon form of matrix M and the pivot columns : {}\".format(M_rref))  "
   ]
  },
  {
   "cell_type": "code",
   "execution_count": null,
   "metadata": {},
   "outputs": [],
   "source": []
  }
 ],
 "metadata": {
  "kernelspec": {
   "display_name": "Python 3",
   "language": "python",
   "name": "python3"
  },
  "language_info": {
   "codemirror_mode": {
    "name": "ipython",
    "version": 3
   },
   "file_extension": ".py",
   "mimetype": "text/x-python",
   "name": "python",
   "nbconvert_exporter": "python",
   "pygments_lexer": "ipython3",
   "version": "3.7.6"
  }
 },
 "nbformat": 4,
 "nbformat_minor": 2
}
