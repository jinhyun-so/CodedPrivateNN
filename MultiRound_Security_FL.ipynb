{
 "cells": [
  {
   "cell_type": "code",
   "execution_count": 29,
   "metadata": {},
   "outputs": [],
   "source": [
    "import numpy as np\n",
    "\n",
    "from sympy import * \n",
    "\n",
    "def rref(A, tol=1.0e-12):\n",
    "    m, n = A.shape\n",
    "    i, j = 0, 0\n",
    "    jb = []\n",
    "\n",
    "    while i < m and j < n:\n",
    "        # Find value and index of largest element in the remainder of column j\n",
    "        k = np.argmax(np.abs(A[i:m, j])) + i\n",
    "        p = np.abs(A[k, j])\n",
    "        if p <= tol:\n",
    "            # The column is negligible, zero it out\n",
    "            A[i:m, j] = 0.0\n",
    "            j += 1\n",
    "        else:\n",
    "            # Remember the column index\n",
    "            jb.append(j)\n",
    "            if i != k:\n",
    "                # Swap the i-th and k-th rows\n",
    "                A[[i, k], j:n] = A[[k, i], j:n]\n",
    "            # Divide the pivot row i by the pivot element A[i, j]\n",
    "            A[i, j:n] = A[i, j:n] / A[i, j]\n",
    "            # Subtract multiples of the pivot row from all the other rows\n",
    "            for k in range(m):\n",
    "                if k != i:\n",
    "                    A[k, j:n] -= A[k, j] * A[i, j:n]\n",
    "            i += 1\n",
    "            j += 1\n",
    "    # Finished\n",
    "    return A"
   ]
  },
  {
   "cell_type": "code",
   "execution_count": 67,
   "metadata": {},
   "outputs": [
    {
     "name": "stdout",
     "output_type": "stream",
     "text": [
      "T= 1\n",
      "T= 2\n",
      "T= 3\n",
      "T= 4\n",
      "T= 5\n",
      "T= 6\n",
      "T= 7\n",
      "T= 8\n",
      "T= 9\n",
      "T= 10\n",
      "T= 11\n",
      "T= 12\n",
      "T= 13\n",
      "T= 14\n",
      "T= 15\n",
      "[5.     4.4064 3.7632 3.18   2.734  2.4414 2.2358 2.0876 1.9044 1.4762\n",
      " 1.2222 1.103  1.0478 1.021  1.012 ]\n"
     ]
    }
   ],
   "source": [
    "N=10\n",
    "K=5\n",
    "T_max = 15\n",
    "is_print = False\n",
    "\n",
    "N_trial = 5000\n",
    "T_array = np.array(range(1,T_max+1))\n",
    "partial_sum_array = np.zeros((len(T_array),N_trial))\n",
    "\n",
    "for j in range(len(T_array)):\n",
    "    \n",
    "    T = T_array[j]\n",
    "    print('T=',T)\n",
    "    for i in range(N_trial):\n",
    "        P = []\n",
    "        # print(len(P))\n",
    "        while(len(P)<T):\n",
    "            M = np.random.binomial(1, 0.7, size=(N))\n",
    "            if np.sum(M) < K:\n",
    "                continue;\n",
    "            else:\n",
    "                result = np.where(M == 1)\n",
    "\n",
    "            if is_print:\n",
    "                print('surviving user info:',result[0])\n",
    "            select = np.random.choice(result[0], K, replace=False)\n",
    "\n",
    "            tmp = np.zeros(N)\n",
    "            tmp[select] = 1\n",
    "            if is_print:\n",
    "                print('selected user info:',tmp)\n",
    "\n",
    "            P.append(tmp)\n",
    "\n",
    "        P = np.array(P)\n",
    "        # print(P)\n",
    "        P_rref = rref(P)\n",
    "\n",
    "        if is_print:\n",
    "            print(P_rref)\n",
    "        P_num = np.count_nonzero(np.array(P_rref),axis = 1)\n",
    "        zero_index = np.where(P_num == 0)\n",
    "        P_num[zero_index] = N+1\n",
    "\n",
    "        # result = np.where(P_rref != 0)\n",
    "        if is_print:\n",
    "            print(P_num)\n",
    "\n",
    "        partial_sum = np.min(P_num)\n",
    "        if is_print:\n",
    "            print(partial_sum)\n",
    "\n",
    "        partial_sum_array[j][i] = partial_sum\n",
    "\n",
    "mean_partial_sum = np.mean(partial_sum_array, axis=1)\n",
    "print(mean_partial_sum)"
   ]
  },
  {
   "cell_type": "code",
   "execution_count": 68,
   "metadata": {},
   "outputs": [
    {
     "data": {
      "image/png": "[encoded data removed]",
      "text/plain": [
       "<Figure size 432x288 with 1 Axes>"
      ]
     },
     "metadata": {
      "needs_background": "light"
     },
     "output_type": "display_data"
    }
   ],
   "source": [
    "import matplotlib\n",
    "# matplotlib.use('Agg')\n",
    "import matplotlib.pyplot as plt\n",
    "\n",
    "plt.plot(mean_partial_sum)\n",
    "plt.ylabel('Avg # Partial Sum')\n",
    "plt.xlabel('# Rounds')\n",
    "plt.grid()\n",
    "plt.show()"
   ]
  },
  {
   "cell_type": "code",
   "execution_count": 75,
   "metadata": {},
   "outputs": [
    {
     "name": "stdout",
     "output_type": "stream",
     "text": [
      "0.0\n",
      "0.0\n",
      "0.0\n",
      "0.0\n",
      "0.0002\n",
      "0.0006\n",
      "0.0028\n",
      "0.0178\n",
      "0.1186\n",
      "0.5286\n",
      "0.7794\n",
      "0.8972\n",
      "0.9522\n",
      "0.979\n",
      "0.988\n"
     ]
    },
    {
     "data": {
      "image/png": "[encoded data removed]",
      "text/plain": [
       "<Figure size 432x288 with 1 Axes>"
      ]
     },
     "metadata": {
      "needs_background": "light"
     },
     "output_type": "display_data"
    }
   ],
   "source": [
    "num_is_one = np.zeros(len(T_array))\n",
    "for i in range(len(T_array)):\n",
    "    is_one = np.where(partial_sum_array[i,:] == 1)\n",
    "    \n",
    "    num_is_one[i] = np.shape(is_one)[1] / N_trial\n",
    "    print(num_is_one[i])\n",
    "    \n",
    "plt.plot(num_is_one)\n",
    "plt.ylabel('Pr{N_partial == 1}')\n",
    "plt.xlabel('# Rounds')\n",
    "plt.grid()\n",
    "plt.show()"
   ]
  },
  {
   "cell_type": "code",
   "execution_count": 79,
   "metadata": {},
   "outputs": [
    {
     "name": "stdout",
     "output_type": "stream",
     "text": [
      "[[1 1 1 1 1 0 0 0 0 0]\n",
      " [0 0 0 0 0 1 1 1 1 1]\n",
      " [0 0 1 1 1 1 1 0 0 0]\n",
      " [1 1 0 0 0 0 0 1 1 1]\n",
      " [1 0 0 0 1 1 1 0 0 1]\n",
      " [0 1 1 1 0 0 0 1 1 0]]\n",
      "\n",
      "[[ 1  0  0  0  1  0  0 -1 -1  0]\n",
      " [ 0  1  0  0 -1  0  0  2  2  1]\n",
      " [ 0  0  1  1  1  0  0 -1 -1 -1]\n",
      " [ 0  0  0  0  0  1  1  1  1  1]\n",
      " [ 0  0  0  0  0  0  0  0  0  0]\n",
      " [ 0  0  0  0  0  0  0  0  0  0]]\n",
      "6\n"
     ]
    }
   ],
   "source": [
    "Basis = np.array([[1,1,1,1,1,0,0,0,0,0],[0,0,0,0,0,1,1,1,1,1],[0,0,1,1,1,1,1,0,0,0],[1,1,0,0,0,0,0,1,1,1],[1,0,0,0,1,1,1,0,0,1],[0,1,1,1,0,0,0,1,1,0]])\n",
    "print(Basis)\n",
    "\n",
    "Basis_rref = rref(Basis)\n",
    "\n",
    "print()\n",
    "print(Basis_rref)\n",
    "\n",
    "print(len(Basis))"
   ]
  },
  {
   "cell_type": "code",
   "execution_count": 90,
   "metadata": {},
   "outputs": [
    {
     "name": "stdout",
     "output_type": "stream",
     "text": [
      "T= 1\n",
      "T= 2\n",
      "T= 3\n",
      "T= 4\n",
      "T= 5\n",
      "T= 6\n",
      "T= 7\n",
      "T= 8\n",
      "T= 9\n",
      "T= 10\n",
      "T= 11\n",
      "T= 12\n",
      "T= 13\n",
      "T= 14\n",
      "T= 15\n"
     ]
    }
   ],
   "source": [
    "Basis = np.array([[1,1,1,1,1,0,0,0,0,0],[0,0,0,0,0,1,1,1,1,1],[0,0,1,1,1,1,1,0,0,0],[1,1,0,0,0,0,0,1,1,1],[1,0,0,0,1,1,1,0,0,1],[0,1,1,1,0,0,0,1,1,0]])\n",
    "\n",
    "partial_sum_array_prop = np.zeros((len(T_array),N_trial))\n",
    "\n",
    "for j in range(len(T_array)):\n",
    "    \n",
    "    T = T_array[j]\n",
    "    print('T=',T)\n",
    "    for i in range(N_trial):\n",
    "        \n",
    "        P = []\n",
    "        # print(len(P))\n",
    "        while(len(P)<T):\n",
    "#             select = np.random.choice(result[0], K, replace=False)\n",
    "            select = np.random.choice(range(len(Basis)),1,replace=False)\n",
    "            tmp = Basis[select[0],:]\n",
    "#             print(tmp)\n",
    "            P.append(tmp)\n",
    "\n",
    "        P = np.array(P)\n",
    "        # print(P)\n",
    "        P_rref = rref(P)\n",
    "\n",
    "        if is_print:\n",
    "            print(P_rref)\n",
    "        P_num = np.count_nonzero(np.array(P_rref),axis = 1)\n",
    "        zero_index = np.where(P_num == 0)\n",
    "        P_num[zero_index] = N+1\n",
    "\n",
    "        # result = np.where(P_rref != 0)\n",
    "        if is_print:\n",
    "            print(P_num)\n",
    "\n",
    "        partial_sum = np.min(P_num)\n",
    "        if is_print:\n",
    "            print(partial_sum)\n",
    "\n",
    "        partial_sum_array_prop[j][i] = partial_sum"
   ]
  },
  {
   "cell_type": "code",
   "execution_count": 91,
   "metadata": {},
   "outputs": [
    {
     "name": "stdout",
     "output_type": "stream",
     "text": [
      "[5.     4.782  4.6356 4.46   4.3172 4.2042 4.1406 4.0862 4.056  4.0356\n",
      " 4.0234 4.0148 4.0106 4.0076 4.0042]\n"
     ]
    }
   ],
   "source": [
    "mean_partial_sum_prop = np.mean(partial_sum_array_prop, axis=1)\n",
    "print(mean_partial_sum_prop)"
   ]
  },
  {
   "cell_type": "code",
   "execution_count": 93,
   "metadata": {},
   "outputs": [
    {
     "data": {
      "image/png": "[encoded data removed]",
      "text/plain": [
       "<Figure size 432x288 with 1 Axes>"
      ]
     },
     "metadata": {
      "needs_background": "light"
     },
     "output_type": "display_data"
    }
   ],
   "source": [
    "plt.plot(mean_partial_sum,label='random selection')\n",
    "plt.plot(mean_partial_sum_prop,label='proposed')\n",
    "plt.ylabel('Avg # Partial Sum')\n",
    "plt.xlabel('# Rounds')\n",
    "plt.legend()\n",
    "plt.grid()\n",
    "plt.show()"
   ]
  },
  {
   "cell_type": "code",
   "execution_count": null,
   "metadata": {},
   "outputs": [],
   "source": []
  }
 ],
 "metadata": {
  "kernelspec": {
   "display_name": "Python 3",
   "language": "python",
   "name": "python3"
  },
  "language_info": {
   "codemirror_mode": {
    "name": "ipython",
    "version": 3
   },
   "file_extension": ".py",
   "mimetype": "text/x-python",
   "name": "python",
   "nbconvert_exporter": "python",
   "pygments_lexer": "ipython3",
   "version": "3.7.6"
  }
 },
 "nbformat": 4,
 "nbformat_minor": 2
}
